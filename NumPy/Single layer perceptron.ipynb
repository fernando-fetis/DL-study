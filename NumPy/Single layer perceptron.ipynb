{
 "cells": [
  {
   "cell_type": "markdown",
   "metadata": {
    "id": "fETNEqpGU8Q8"
   },
   "source": [
    "# Binary classifier with a sigmoid neuron"
   ]
  },
  {
   "cell_type": "markdown",
   "metadata": {
    "id": "CNn6p99NU8Q_"
   },
   "source": [
    "Let's implement a simple sigmoid neuron to classify 2D points. First, we only need two libraries:"
   ]
  },
  {
   "cell_type": "code",
   "execution_count": 1,
   "metadata": {
    "id": "pN5Sai0TU8Q_"
   },
   "outputs": [],
   "source": [
    "import numpy as np\n",
    "import matplotlib.pyplot as plt"
   ]
  },
  {
   "cell_type": "markdown",
   "metadata": {
    "id": "dVYphxd9U8RA"
   },
   "source": [
    "We will create two random distributions of points. One of the distribution is shifted, so there is a clear linear separation between both sets. We build a dataset with the points. "
   ]
  },
  {
   "cell_type": "code",
   "execution_count": 2,
   "metadata": {
    "colab": {
     "base_uri": "https://localhost:8080/",
     "height": 265
    },
    "id": "zKijPSPVU8RA",
    "outputId": "c04879bc-d8c2-4e43-fcd0-8e115ec40efd"
   },
   "outputs": [
    {
     "data": {
      "image/png": "[encoded data removed]",
      "text/plain": [
       "<Figure size 432x288 with 1 Axes>"
      ]
     },
     "metadata": {
      "needs_background": "light"
     },
     "output_type": "display_data"
    }
   ],
   "source": [
    "#Let's create a dataset of 2D points. The distribution is only shifted 3.5 units\n",
    "X1 = np.random.randn(1000, 2)\n",
    "X2 = np.random.randn(1000, 2) + 3.5\n",
    "\n",
    "#The first 750 points of each distribution go in the training set\n",
    "X_train = np.concatenate([X1[:750,:], X2[:750,:]], axis=0)\n",
    "\n",
    "#The last 250 points of each distribution go in the test set\n",
    "X_test = np.concatenate([X1[750:,:], X2[750:,:]], axis=0)\n",
    "\n",
    "#We also create the labels\n",
    "Y1 = np.zeros((1000, 1)) #The points in the first distribution have class 0\n",
    "Y2 = np.ones((1000, 1)) # The points in the second distribution have class 1\n",
    "\n",
    "#The first 750 labels of each distribution go in the training set\n",
    "Y_train = np.concatenate([Y1[:750], Y2[:750]], axis=0)\n",
    "\n",
    "#The last 250 labels of each distribution go in the test set\n",
    "Y_test = np.concatenate([Y1[750:], Y2[750:]], axis=0)\n",
    "\n",
    "#Plot the training set\n",
    "plt.scatter(X_train[:750,0], X_train[:750,1], color='b')\n",
    "plt.scatter(X_train[750:,0], X_train[750:,1], color='r')\n",
    "plt.show()\n"
   ]
  },
  {
   "cell_type": "markdown",
   "metadata": {
    "id": "TX4t6rE-U8RB"
   },
   "source": [
    "We develop the neural network and the gradient descent algorithm for learning"
   ]
  },
  {
   "cell_type": "code",
   "execution_count": 3,
   "metadata": {
    "colab": {
     "base_uri": "https://localhost:8080/"
    },
    "id": "3v4JvB5BU8RC",
    "outputId": "beb79c60-ec6d-4801-8fdd-95baf9c4304c"
   },
   "outputs": [
    {
     "name": "stdout",
     "output_type": "stream",
     "text": [
      "Epoch 0/100: loss = [0.03366734]: Test accuracy=93.8\n",
      "Epoch 1/100: loss = [0.03218195]: Test accuracy=93.8\n",
      "Epoch 2/100: loss = [0.03086267]: Test accuracy=94.2\n",
      "Epoch 3/100: loss = [0.02968224]: Test accuracy=94.8\n",
      "Epoch 4/100: loss = [0.02861741]: Test accuracy=95.6\n",
      "Epoch 5/100: loss = [0.02764916]: Test accuracy=96.0\n",
      "Epoch 6/100: loss = [0.0267624]: Test accuracy=96.0\n",
      "Epoch 7/100: loss = [0.02594523]: Test accuracy=96.6\n",
      "Epoch 8/100: loss = [0.02518825]: Test accuracy=96.6\n",
      "Epoch 9/100: loss = [0.02448398]: Test accuracy=96.6\n",
      "Epoch 10/100: loss = [0.02382637]: Test accuracy=96.8\n",
      "Epoch 11/100: loss = [0.02321041]: Test accuracy=97.2\n",
      "Epoch 12/100: loss = [0.02263194]: Test accuracy=97.4\n",
      "Epoch 13/100: loss = [0.02208741]: Test accuracy=97.4\n",
      "Epoch 14/100: loss = [0.02157375]: Test accuracy=97.4\n",
      "Epoch 15/100: loss = [0.02108832]: Test accuracy=97.6\n",
      "Epoch 16/100: loss = [0.02062877]: Test accuracy=97.6\n",
      "Epoch 17/100: loss = [0.02019305]: Test accuracy=97.8\n",
      "Epoch 18/100: loss = [0.01977931]: Test accuracy=98.0\n",
      "Epoch 19/100: loss = [0.0193859]: Test accuracy=98.0\n",
      "Epoch 20/100: loss = [0.01901134]: Test accuracy=98.0\n",
      "Epoch 21/100: loss = [0.01865431]: Test accuracy=98.0\n",
      "Epoch 22/100: loss = [0.01831358]: Test accuracy=98.0\n",
      "Epoch 23/100: loss = [0.01798805]: Test accuracy=98.0\n",
      "Epoch 24/100: loss = [0.01767674]: Test accuracy=98.0\n",
      "Epoch 25/100: loss = [0.01737871]: Test accuracy=98.0\n",
      "Epoch 26/100: loss = [0.01709313]: Test accuracy=98.2\n",
      "Epoch 27/100: loss = [0.01681923]: Test accuracy=98.2\n",
      "Epoch 28/100: loss = [0.01655631]: Test accuracy=98.2\n",
      "Epoch 29/100: loss = [0.01630372]: Test accuracy=98.2\n",
      "Epoch 30/100: loss = [0.01606084]: Test accuracy=98.2\n",
      "Epoch 31/100: loss = [0.01582714]: Test accuracy=98.4\n",
      "Epoch 32/100: loss = [0.01560208]: Test accuracy=98.4\n",
      "Epoch 33/100: loss = [0.01538521]: Test accuracy=98.4\n",
      "Epoch 34/100: loss = [0.01517607]: Test accuracy=98.6\n",
      "Epoch 35/100: loss = [0.01497426]: Test accuracy=98.6\n",
      "Epoch 36/100: loss = [0.01477939]: Test accuracy=98.6\n",
      "Epoch 37/100: loss = [0.01459111]: Test accuracy=98.6\n",
      "Epoch 38/100: loss = [0.01440908]: Test accuracy=98.8\n",
      "Epoch 39/100: loss = [0.014233]: Test accuracy=98.8\n",
      "Epoch 40/100: loss = [0.01406257]: Test accuracy=98.8\n",
      "Epoch 41/100: loss = [0.01389752]: Test accuracy=98.8\n",
      "Epoch 42/100: loss = [0.01373759]: Test accuracy=98.8\n",
      "Epoch 43/100: loss = [0.01358255]: Test accuracy=98.8\n",
      "Epoch 44/100: loss = [0.01343218]: Test accuracy=98.8\n",
      "Epoch 45/100: loss = [0.01328626]: Test accuracy=98.8\n",
      "Epoch 46/100: loss = [0.01314459]: Test accuracy=98.8\n",
      "Epoch 47/100: loss = [0.01300699]: Test accuracy=98.8\n",
      "Epoch 48/100: loss = [0.01287329]: Test accuracy=98.8\n",
      "Epoch 49/100: loss = [0.0127433]: Test accuracy=98.8\n",
      "Epoch 50/100: loss = [0.01261689]: Test accuracy=98.8\n",
      "Epoch 51/100: loss = [0.0124939]: Test accuracy=98.8\n",
      "Epoch 52/100: loss = [0.01237418]: Test accuracy=99.0\n",
      "Epoch 53/100: loss = [0.01225762]: Test accuracy=99.2\n",
      "Epoch 54/100: loss = [0.01214408]: Test accuracy=99.2\n",
      "Epoch 55/100: loss = [0.01203344]: Test accuracy=99.2\n",
      "Epoch 56/100: loss = [0.0119256]: Test accuracy=99.2\n",
      "Epoch 57/100: loss = [0.01182044]: Test accuracy=99.2\n",
      "Epoch 58/100: loss = [0.01171786]: Test accuracy=99.2\n",
      "Epoch 59/100: loss = [0.01161777]: Test accuracy=99.2\n",
      "Epoch 60/100: loss = [0.01152007]: Test accuracy=99.2\n",
      "Epoch 61/100: loss = [0.01142469]: Test accuracy=99.2\n",
      "Epoch 62/100: loss = [0.01133152]: Test accuracy=99.2\n",
      "Epoch 63/100: loss = [0.01124051]: Test accuracy=99.2\n",
      "Epoch 64/100: loss = [0.01115156]: Test accuracy=99.2\n",
      "Epoch 65/100: loss = [0.01106462]: Test accuracy=99.2\n",
      "Epoch 66/100: loss = [0.0109796]: Test accuracy=99.2\n",
      "Epoch 67/100: loss = [0.01089645]: Test accuracy=99.2\n",
      "Epoch 68/100: loss = [0.0108151]: Test accuracy=99.2\n",
      "Epoch 69/100: loss = [0.0107355]: Test accuracy=99.2\n",
      "Epoch 70/100: loss = [0.01065758]: Test accuracy=99.2\n",
      "Epoch 71/100: loss = [0.01058129]: Test accuracy=99.2\n",
      "Epoch 72/100: loss = [0.01050658]: Test accuracy=99.2\n",
      "Epoch 73/100: loss = [0.0104334]: Test accuracy=99.2\n",
      "Epoch 74/100: loss = [0.0103617]: Test accuracy=99.2\n",
      "Epoch 75/100: loss = [0.01029144]: Test accuracy=99.2\n",
      "Epoch 76/100: loss = [0.01022256]: Test accuracy=99.2\n",
      "Epoch 77/100: loss = [0.01015504]: Test accuracy=99.2\n",
      "Epoch 78/100: loss = [0.01008882]: Test accuracy=99.2\n",
      "Epoch 79/100: loss = [0.01002388]: Test accuracy=99.2\n",
      "Epoch 80/100: loss = [0.00996016]: Test accuracy=99.2\n",
      "Epoch 81/100: loss = [0.00989765]: Test accuracy=99.2\n",
      "Epoch 82/100: loss = [0.00983629]: Test accuracy=99.2\n",
      "Epoch 83/100: loss = [0.00977606]: Test accuracy=99.2\n",
      "Epoch 84/100: loss = [0.00971693]: Test accuracy=99.2\n",
      "Epoch 85/100: loss = [0.00965887]: Test accuracy=99.2\n",
      "Epoch 86/100: loss = [0.00960184]: Test accuracy=99.2\n",
      "Epoch 87/100: loss = [0.00954582]: Test accuracy=99.2\n",
      "Epoch 88/100: loss = [0.00949078]: Test accuracy=99.2\n",
      "Epoch 89/100: loss = [0.00943669]: Test accuracy=99.2\n",
      "Epoch 90/100: loss = [0.00938353]: Test accuracy=99.2\n",
      "Epoch 91/100: loss = [0.00933128]: Test accuracy=99.2\n",
      "Epoch 92/100: loss = [0.00927991]: Test accuracy=99.2\n",
      "Epoch 93/100: loss = [0.00922939]: Test accuracy=99.2\n",
      "Epoch 94/100: loss = [0.00917971]: Test accuracy=99.2\n",
      "Epoch 95/100: loss = [0.00913085]: Test accuracy=99.2\n",
      "Epoch 96/100: loss = [0.00908277]: Test accuracy=99.2\n",
      "Epoch 97/100: loss = [0.00903547]: Test accuracy=99.2\n",
      "Epoch 98/100: loss = [0.00898893]: Test accuracy=99.4\n",
      "Epoch 99/100: loss = [0.00894312]: Test accuracy=99.4\n"
     ]
    }
   ],
   "source": [
    "#Definition of sigmoid function\n",
    "def sigmoid(x):\n",
    "    return 1/(1 + np.exp(-x))\n",
    "\n",
    "\n",
    "#Let's implement the gradient descent algorithm\n",
    "\n",
    "#Initialize random parameters\n",
    "w1 = 2*np.random.rand(1) - 1\n",
    "w2 = 2*np.random.rand(1) - 1\n",
    "b = 2*np.random.rand(1) - 1\n",
    "\n",
    "#Initialize hiper-parameters\n",
    "learning_rate = 0.001\n",
    "num_epochs = 100\n",
    "\n",
    "#Log lists\n",
    "log_train = []\n",
    "log_test = []\n",
    "\n",
    "#Iterate over the epochs\n",
    "for i in range(num_epochs):\n",
    "    cost = 0\n",
    "    \n",
    "    #Foe each epoch, iterate over the training samples\n",
    "    for j in range(X_train.shape[0]):\n",
    "        #Compute the linear function\n",
    "        z = w1 * X_train[j,0] + w2 * X_train[j, 1] + b\n",
    "        #Compute the activation function (sigmoid)\n",
    "        y1 = sigmoid(z)\n",
    "        \n",
    "        #Compute error and cost for this sample\n",
    "        error = y1 - Y_train[j]\n",
    "        cost = cost + error**2\n",
    "        \n",
    "        #Compute the derivatives for each parameter        \n",
    "        dw1 = error*y1*(1-y1)*X_train[j,0]\n",
    "        dw2 = error*y1*(1-y1)*X_train[j,1]\n",
    "        db = error*y1*(1-y1)\n",
    "        \n",
    "        #Perform the update rules        \n",
    "        w1 = w1 - learning_rate*dw1\n",
    "        w2 = w2 - learning_rate*dw2\n",
    "        b = b - learning_rate*db\n",
    "    \n",
    "    #At the end of the epoch, we compute the total cost of the epoch\n",
    "    cost = cost/(2*X_train.shape[0])\n",
    "    log_train.append(cost)\n",
    "    \n",
    "    #We verify how good is the model so far, by computing the accuracy in the test set\n",
    "    test_output = []\n",
    "    cost = 0\n",
    "    \n",
    "    #Iterate over the test samples\n",
    "    for j in range(X_test.shape[0]):\n",
    "        #Compute the output of the neuron\n",
    "        y1 = sigmoid(w1 * X_test[j,0] + w2 * X_test[j, 1] + b)\n",
    "        cost = cost + (y1 - Y_test[j])**2\n",
    "        test_output.append(y1)\n",
    "    \n",
    "    #Average the cost over the test set\n",
    "    cost = cost / (2*X_test.shape[0])\n",
    "    log_test.append(cost)\n",
    "    \n",
    "    test_output = np.asarray(test_output)\n",
    "    test_output = (test_output >= 0.5)\n",
    "    \n",
    "    #Compare the output of the network with the correct labels\n",
    "    correct = (test_output == Y_test).sum()\n",
    "    \n",
    "    print('Epoch {}/{}: loss = {}: Test accuracy={}'.format(i, num_epochs, cost, (100*correct)/test_output.shape[0]))\n",
    "    \n",
    "        "
   ]
  },
  {
   "cell_type": "code",
   "execution_count": 4,
   "metadata": {
    "colab": {
     "base_uri": "https://localhost:8080/",
     "height": 266
    },
    "id": "2MZiYhArU8RD",
    "outputId": "ecdc1dbc-503f-4bc2-aa55-0caad2d60123"
   },
   "outputs": [
    {
     "data": {
      "image/png": "[encoded data removed]",
      "text/plain": [
       "<Figure size 432x288 with 1 Axes>"
      ]
     },
     "metadata": {
      "needs_background": "light"
     },
     "output_type": "display_data"
    }
   ],
   "source": [
    "#Plot of historic logs\n",
    "plt.plot(log_train, color='b')\n",
    "plt.plot(log_test, color='r')\n",
    "\n",
    "plt.show()"
   ]
  },
  {
   "cell_type": "code",
   "execution_count": 5,
   "metadata": {
    "colab": {
     "base_uri": "https://localhost:8080/",
     "height": 282
    },
    "id": "Wdi34ZgZU8RD",
    "outputId": "5c1e92a3-ccbf-4f45-a9a5-d23d0ca90424"
   },
   "outputs": [
    {
     "data": {
      "text/plain": [
       "[<matplotlib.lines.Line2D at 0x7fd21d03d4d0>]"
      ]
     },
     "execution_count": 5,
     "metadata": {},
     "output_type": "execute_result"
    },
    {
     "data": {
      "image/png": "[encoded data removed]",
      "text/plain": [
       "<Figure size 432x288 with 1 Axes>"
      ]
     },
     "metadata": {
      "needs_background": "light"
     },
     "output_type": "display_data"
    }
   ],
   "source": [
    "#Plot the boundary decision\n",
    "\n",
    "x1_val = np.linspace(X_train[:,0].min(), X_train[:,0].max(), 100)\n",
    "x2_val = (-b - (w1 * x1_val))/w2\n",
    "\n",
    "\n",
    "plt.scatter(X_train[:750, 0], X_train[:750, 1], color='b')\n",
    "plt.scatter(X_train[750:, 0], X_train[750:, 1], color='r')\n",
    "plt.plot(x1_val, x2_val, 'g')"
   ]
  }
 ],
 "metadata": {
  "colab": {
   "name": "BinaryClassifier .ipynb",
   "provenance": []
  },
  "kernelspec": {
   "display_name": "Python 3 (ipykernel)",
   "language": "python",
   "name": "python3"
  },
  "language_info": {
   "codemirror_mode": {
    "name": "ipython",
    "version": 3
   },
   "file_extension": ".py",
   "mimetype": "text/x-python",
   "name": "python",
   "nbconvert_exporter": "python",
   "pygments_lexer": "ipython3",
   "version": "3.10.2"
  }
 },
 "nbformat": 4,
 "nbformat_minor": 1
}
