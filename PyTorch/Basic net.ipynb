{
 "cells": [
  {
   "cell_type": "markdown",
   "metadata": {},
   "source": [
    "# Basic net"
   ]
  },
  {
   "cell_type": "markdown",
   "metadata": {},
   "source": [
    "## 4-conv, 3-dense net on CIFAR-10"
   ]
  },
  {
   "cell_type": "code",
   "execution_count": null,
   "metadata": {},
   "outputs": [],
   "source": [
    "import torch.nn as nn\n",
    "\n",
    "class Model(nn.Module):\n",
    "    \n",
    "    def __init__(self, in_resolution=32*32, in_channels=3, n_classes=10):\n",
    "        super().__init__()\n",
    "        \n",
    "        self.conv1 = nn.Conv2d(in_channels=in_channels, out_channels=8, kernel_size=3, stride=1, padding=1)\n",
    "        self.conv1_bn = nn.BatchNorm2d(num_features=8)\n",
    "        self.conv2 = nn.Conv2d(in_channels=8, out_channels=16, kernel_size=3, stride=1, padding=1)\n",
    "        self.conv2_bn = nn.BatchNorm2d(num_features=16)\n",
    "        self.conv3 = nn.Conv2d(in_channels=16, out_channels=32, kernel_size=3, stride=1, padding=1)\n",
    "        self.conv3_bn = nn.BatchNorm2d(num_features=32)\n",
    "        self.conv4 = nn.Conv2d(in_channels=32, out_channels=64, kernel_size=3, stride=1, padding=1)\n",
    "        self.conv4_bn = nn.BatchNorm2d(num_features=64)\n",
    "    \n",
    "        self.dense1 = nn.Linear(in_features=64*in_resolution//(4*4*4*4), out_features=40)\n",
    "        self.dense1_bn = nn.BatchNorm1d(num_features=40)\n",
    "        self.dense2 = nn.Linear(in_features=40, out_features=10)\n",
    "        self.dense2_bn = nn.BatchNorm1d(num_features=10)\n",
    "        self.dense3 = nn.Linear(in_features=10, out_features=n_classes)\n",
    "        self.dense3_bn = nn.BatchNorm1d(num_features=n_classes)\n",
    "        \n",
    "    def forward(self, x):\n",
    "        x = self.conv1_bn(nn.ReLU()(self.conv1(x)))\n",
    "        x = nn.MaxPool2d(kernel_size=2, stride=2)(x)\n",
    "        x = self.conv2_bn(nn.ReLU()(self.conv2(x)))\n",
    "        x = nn.MaxPool2d(kernel_size=2, stride=2)(x)\n",
    "        x = self.conv3_bn(nn.ReLU()(self.conv3(x)))\n",
    "        x = nn.MaxPool2d(kernel_size=2, stride=2)(x)\n",
    "        x = self.conv4_bn(nn.ReLU()(self.conv4(x)))\n",
    "        x = nn.MaxPool2d(kernel_size=2, stride=2)(x)\n",
    "        x = nn.Flatten()(x)\n",
    "        x = self.dense1_bn(nn.ReLU()(self.dense1(x)))\n",
    "        x = self.dense2_bn(nn.ReLU()(self.dense2(x)))\n",
    "        x = self.dense3_bn(self.dense3(x))\n",
    "        return x"
   ]
  },
  {
   "cell_type": "code",
   "execution_count": null,
   "metadata": {},
   "outputs": [],
   "source": [
    "from torchvision import datasets, transforms\n",
    "from torch.utils.data import DataLoader\n",
    "\n",
    "mean, std = (0.4914, 0.4822, 0.4465), (0.2470, 0.2435, 0.2616)\n",
    "labels = 'airplane automobile bird cat deer dog frog horse ship truck'.split()\n",
    "\n",
    "dataset_train = datasets.CIFAR10('data/CIFAR-10', train=True, download=True, transform=transforms.Compose([transforms.ToTensor(), transforms.Normalize(mean, std)]))\n",
    "dataset_val = datasets.CIFAR10('data/CIFAR-10', train=False, download=True, transform=transforms.Compose([transforms.ToTensor(), transforms.Normalize(mean, std)]))\n",
    "\n",
    "dataloader_train = DataLoader(dataset_train, batch_size=64, shuffle=True)\n",
    "dataloader_val = DataLoader(dataset_train, batch_size=64, shuffle=True)\n",
    "dataloaders = {'train': dataloader_train, 'val': dataloader_val}"
   ]
  },
  {
   "cell_type": "code",
   "execution_count": null,
   "metadata": {},
   "outputs": [],
   "source": [
    "from torch.optim import Adam, lr_scheduler\n",
    "\n",
    "net = Model()\n",
    "optimizer = Adam(net.parameters(), lr=1e-2, weight_decay=1e-5)\n",
    "scheduler = lr_scheduler.StepLR(optimizer, step_size=5)\n",
    "\n",
    "trainer = Trainer(net, optimizer, scheduler)\n",
    "trainer.train(dataloaders, epochs=30, early_stopping=5)\n",
    "trainer.plot_training()"
   ]
  },
  {
   "cell_type": "markdown",
   "metadata": {},
   "source": [
    "## Linear net on fake data"
   ]
  },
  {
   "cell_type": "code",
   "execution_count": null,
   "metadata": {},
   "outputs": [],
   "source": [
    "from torchvision.datasets import FakeData\n",
    "from torch.utils.data import DataLoader\n",
    "from torchvision import transforms\n",
    "from torch.optim import Adam\n",
    "import torch.nn as nn\n",
    "from torch.optim import lr_scheduler\n",
    "\n",
    "dataset = FakeData(1000, (3, 224, 224), 10, transform=transforms.ToTensor())\n",
    "dataloader = DataLoader(dataset, batch_size=64)\n",
    "data = {'train': dataloader, 'val': dataloader}\n",
    "\n",
    "net = nn.Sequential(nn.Flatten(),nn.Linear(3*224*224, 10))\n",
    "optimizer = Adam(net.parameters(), lr=1e-3)\n",
    "scheduler = lr_scheduler.StepLR(optimizer, step_size=5)\n",
    "\n",
    "trainer = Trainer(net, optimizer, scheduler)\n",
    "trainer.train(data, epochs=10, early_stopping=5)\n",
    "trainer.plot_training()"
   ]
  }
 ],
 "metadata": {
  "kernelspec": {
   "display_name": "Python 3.10.2 64-bit",
   "language": "python",
   "name": "python3"
  },
  "language_info": {
   "name": "python",
   "version": "3.10.2"
  },
  "orig_nbformat": 4,
  "vscode": {
   "interpreter": {
    "hash": "aee8b7b246df8f9039afb4144a1f6fd8d2ca17a180786b69acc140d282b71a49"
   }
  }
 },
 "nbformat": 4,
 "nbformat_minor": 2
}
