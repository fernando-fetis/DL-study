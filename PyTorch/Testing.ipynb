{
 "cells": [
  {
   "cell_type": "markdown",
   "metadata": {},
   "source": [
    "## Testing"
   ]
  },
  {
   "cell_type": "code",
   "execution_count": 1,
   "metadata": {},
   "outputs": [],
   "source": [
    "import torch"
   ]
  },
  {
   "cell_type": "markdown",
   "metadata": {},
   "source": [
    "### Clases más probables para una imagen"
   ]
  },
  {
   "cell_type": "code",
   "execution_count": 2,
   "metadata": {},
   "outputs": [],
   "source": [
    "def pred_best_labels_image(net, image, n=5):\n",
    "    net.eval()\n",
    "    output = net(image.unsqueeze(0).to(net.device))[0]\n",
    "    distr_class = output.softmax(dim=0)\n",
    "    sorted_prob, sorted_idx = torch.sort(distr_class, descending=True, dim=0)\n",
    "    \n",
    "    return [(sorted_idx[i].item(), sorted_prob[i].item() * 100) for i in range(n)]"
   ]
  },
  {
   "cell_type": "markdown",
   "metadata": {},
   "source": [
    "### Distribución de clases para una imagen"
   ]
  },
  {
   "cell_type": "code",
   "execution_count": null,
   "metadata": {},
   "outputs": [],
   "source": [
    "from matplotlib import pyplot as plt\n",
    "\n",
    "def pred_distribution(net, image):\n",
    "    net.eval()\n",
    "    output = net(image.unsqueeze(0))\n",
    "    probs = torch.nn.Softmax(dim=-1)(output)\n",
    "    probs = probs.detach().cpu().numpy()\n",
    "    \n",
    "    plt.plot(probs[0])\n",
    "    plt.xlabel('label')\n",
    "    plt.show()"
   ]
  },
  {
   "cell_type": "markdown",
   "metadata": {},
   "source": [
    "### Predecir clases para archivos de una carpeta"
   ]
  },
  {
   "cell_type": "code",
   "execution_count": 3,
   "metadata": {},
   "outputs": [],
   "source": [
    "from matplotlib import pyplot as plt\n",
    "import os\n",
    "\n",
    "def predict_folder(net, folder_path, transformation=None, samples=0, labels=None):\n",
    "    \n",
    "    net.eval()\n",
    "    \n",
    "    valid_filenames = []\n",
    "    folder_predictions = []\n",
    "    \n",
    "    for filename in os.listdir(folder_path):\n",
    "        \n",
    "        image_path = os.path.join(folder_path, filename)\n",
    "        if os.path.splitext(image_path)[-1] in ('.jpg', '.jpeg'):\n",
    "            image = Image.open(image_path)\n",
    "            if transformation:\n",
    "                image = transformation(image)\n",
    "            output = net(image.unsqueeze(0).to(net.device))\n",
    "            pred = output.argmax(dim=1).item()\n",
    "            \n",
    "            valid_filenames.append(filename)\n",
    "            folder_predictions.append(pred)\n",
    "    \n",
    "    if samples == 'all':\n",
    "        samples = len(valid_filenames)\n",
    "        \n",
    "    plt.figure(figsize = (9, 6))\n",
    "    ncols, nrows = 3, -(samples//-3)  \n",
    "    for i in range(samples):\n",
    "        \n",
    "        image_path = os.path.join(folder_path, valid_filenames[i])\n",
    "        image = Image.open(image_path)\n",
    "        label = labels[folder_predictions[i]] if labels else folder_predictions[i]\n",
    "\n",
    "        plt.subplot(nrows, ncols, i+1)\n",
    "        plt.title(label)\n",
    "        plt.axis('off')\n",
    "        plt.imshow(image)\n",
    "    plt.tight_layout()"
   ]
  },
  {
   "cell_type": "markdown",
   "metadata": {},
   "source": [
    "### Matriz de confusión"
   ]
  },
  {
   "cell_type": "code",
   "execution_count": 4,
   "metadata": {},
   "outputs": [],
   "source": [
    "from sklearn import metrics\n",
    "from matplotlib import pyplot as plt\n",
    "\n",
    "def predict_dataset(net, dataset):\n",
    "    net.eval()\n",
    "    labels, preds = [], []\n",
    "    for image, label in dataset:\n",
    "        output = net(image.unsqueeze(0))\n",
    "        pred = output.argmax(dim=1).item()\n",
    "        labels.append(label)\n",
    "        preds.append(pred)\n",
    "    \n",
    "    return labels, preds\n",
    "\n",
    "def confusion_matrix(labels, preds):\n",
    "    \n",
    "    fig = plt.figure(figsize = (10, 8))\n",
    "    ax = fig.add_subplot(1, 1, 1)\n",
    "    cm = metrics.confusion_matrix(labels, preds)\n",
    "    cm = metrics.ConfusionMatrixDisplay(cm)\n",
    "    cm.plot(cmap = 'Oranges', ax = ax)\n",
    "    print(metrics.classification_report(labels, preds))"
   ]
  },
  {
   "cell_type": "markdown",
   "metadata": {},
   "source": [
    "### Predecir dataset"
   ]
  },
  {
   "cell_type": "code",
   "execution_count": null,
   "metadata": {},
   "outputs": [],
   "source": [
    "from matplotlib import pyplot as plt\n",
    "from torchvision import transforms\n",
    "\n",
    "def predict_dataset(net, dataset, n=21, random=True, unnormalize=None, classes_names=None):\n",
    "\n",
    "    rows = -(n//-7)  # math.ceil(n/10)\n",
    "    cols = -(n//-rows)  # math.ceil(n/rows)\n",
    "\n",
    "    fig = plt.figure(figsize=(3*cols, 3*rows))\n",
    "    plt.tight_layout()\n",
    "    \n",
    "    for i in range(n):\n",
    "        index = torch.randint(0, len(dataset), [1]).item() if random else i\n",
    "        image, label = dataset[index]\n",
    "        pred = net(image.unsqueeze(0)).argmax(dim=1).item()\n",
    "        \n",
    "        if classes_names:\n",
    "            label = classes_names[label]\n",
    "            pred = classes_names[pred]\n",
    "        \n",
    "        if unnormalize == 'imagenet':\n",
    "            mean, std = torch.tensor([(0.485, 0.456, 0.406), (0.229, 0.224, 0.225)])\n",
    "        elif unnormalize:\n",
    "            mean, std = unnormalize\n",
    "        else:\n",
    "            mean, std = 0, 1\n",
    "    \n",
    "        image = image.permute(1, 2, 0) * std + mean\n",
    "        \n",
    "        fig.add_subplot(rows, cols, i + 1)\n",
    "        plt.imshow(image)\n",
    "        plt.axis('off')\n",
    "        plt.title(f'{label} | {pred}')\n",
    "        "
   ]
  }
 ],
 "metadata": {
  "kernelspec": {
   "display_name": "Python 3.10.2 64-bit",
   "language": "python",
   "name": "python3"
  },
  "language_info": {
   "codemirror_mode": {
    "name": "ipython",
    "version": 3
   },
   "file_extension": ".py",
   "mimetype": "text/x-python",
   "name": "python",
   "nbconvert_exporter": "python",
   "pygments_lexer": "ipython3",
   "version": "3.10.2"
  },
  "orig_nbformat": 4,
  "vscode": {
   "interpreter": {
    "hash": "aee8b7b246df8f9039afb4144a1f6fd8d2ca17a180786b69acc140d282b71a49"
   }
  }
 },
 "nbformat": 4,
 "nbformat_minor": 2
}
