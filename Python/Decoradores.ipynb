{
 "cells": [
  {
   "attachments": {},
   "cell_type": "markdown",
   "metadata": {},
   "source": [
    "# Decoradores"
   ]
  },
  {
   "attachments": {},
   "cell_type": "markdown",
   "metadata": {},
   "source": [
    "### Decorador básico"
   ]
  },
  {
   "cell_type": "code",
   "execution_count": 25,
   "metadata": {},
   "outputs": [
    {
     "name": "stdout",
     "output_type": "stream",
     "text": [
      "Acción adicional del decorador.\n",
      "Acción default de la función.\n"
     ]
    }
   ],
   "source": [
    "def decorator(func):\n",
    "    \n",
    "    def new_function():\n",
    "        print('Acción adicional del decorador.')\n",
    "        func()\n",
    "    return new_function\n",
    "\n",
    "@decorator\n",
    "def funcion():\n",
    "    print('Acción default de la función.')\n",
    "    \n",
    "funcion()"
   ]
  },
  {
   "cell_type": "code",
   "execution_count": 73,
   "metadata": {},
   "outputs": [
    {
     "name": "stdout",
     "output_type": "stream",
     "text": [
      "Se sumarán ambos números.\n",
      "La función se ejecutó en 0.3462 segundos.\n"
     ]
    },
    {
     "data": {
      "text/plain": [
       "8"
      ]
     },
     "execution_count": 73,
     "metadata": {},
     "output_type": "execute_result"
    }
   ],
   "source": [
    "import time\n",
    "\n",
    "def timeit(func):\n",
    "    \n",
    "    def timed(*args, **kwargs):\n",
    "        start = time.time()\n",
    "        result = func(*args, **kwargs)\n",
    "        end = time.time()\n",
    "        print(f'La función se ejecutó en {((end - start) * 1000):.4f} segundos.')\n",
    "        return result\n",
    "    \n",
    "    return timed\n",
    "\n",
    "@timeit\n",
    "def funcion(a, b):\n",
    "    print('Se sumarán ambos números.')\n",
    "    return a + b\n",
    "\n",
    "funcion(5, 3)"
   ]
  },
  {
   "attachments": {},
   "cell_type": "markdown",
   "metadata": {},
   "source": [
    "### @Staticmethod\n",
    "\n",
    "Permite llamar al método sin instanciar necesariamente la clase. Deben ser autocontenidos, por lo que no pueden acceder a atributos/métodos de la clase o de alguna instancia.\n",
    "No necesita llevar `self`."
   ]
  },
  {
   "cell_type": "code",
   "execution_count": 83,
   "metadata": {},
   "outputs": [
    {
     "name": "stdout",
     "output_type": "stream",
     "text": [
      "Suma: 8\n",
      "Suma: 8\n"
     ]
    }
   ],
   "source": [
    "class Clase:\n",
    "    class_attribute = 'valor'\n",
    "    \n",
    "    def __init__(self):\n",
    "        self.instance_attribute = 'valor2'\n",
    "\n",
    "    @staticmethod\n",
    "    def suma_estatica(a, b):  # Este método no requiere elementos de la clase.\n",
    "        return a + b\n",
    "\n",
    "# Se puede llamar como un método normal:\n",
    "obj = Clase()\n",
    "print('Suma:', obj.suma_estatica(5, 3))\n",
    "\n",
    "# Se puede llamar sin instanciar la clase (mostraría error sin el decorador):\n",
    "print('Suma:', Clase.suma_estatica(5, 3))"
   ]
  },
  {
   "attachments": {},
   "cell_type": "markdown",
   "metadata": {},
   "source": [
    "### @classmethod\n",
    "\n",
    "Al igual que `staticmethod`, se puede llamar al método sin instanciar la clase, solo que además permite acceder a otros métodos y atributos de la clase. No permite acceder a atributos de instancias.\\\\\n",
    "\n",
    "Cuando el método es un método de instancia (método típico), se usa `self` para referirse a la instancia. Si el método es un método de clase, se usa `cls` para referirse a la clase.\\\\\n",
    "\n",
    "Estos métodos pueden retornar un objeto de la clase mediante `cls(params_clase)`."
   ]
  },
  {
   "cell_type": "code",
   "execution_count": 88,
   "metadata": {},
   "outputs": [
    {
     "name": "stdout",
     "output_type": "stream",
     "text": [
      "Suma: 15\n",
      "Suma: 15\n"
     ]
    }
   ],
   "source": [
    "class Clase:\n",
    "    class_attribute = 10\n",
    "    \n",
    "    def __init__(self):\n",
    "        self.instance_attribute = 20\n",
    "\n",
    "    @classmethod\n",
    "    def suma(cls, num):\n",
    "        return cls.class_attribute + num\n",
    "\n",
    "# Se puede usar como un método normal:\n",
    "obj = Clase()\n",
    "print('Suma:', obj.suma(5))\n",
    "\n",
    "# Se puede usar sin instanciar la clase (mostraría error sin el decorador):\n",
    "print('Suma:', Clase.suma(5))"
   ]
  },
  {
   "attachments": {},
   "cell_type": "markdown",
   "metadata": {},
   "source": [
    "### @property\n",
    "\n",
    "Permite construir métodos para obtener, modificar y eliminar atributos de una instancia de forma más completa, pudiendo realizar acciones intermedias (como verificar el datatype al asignar un nuevo valor).\\\\\n",
    "\n",
    "Esto es útil cuando se tiene un atributo privado/protegido dentro de la clase ya que el decorador permitirá tratar al atributo como si fuera público. Además, no se deberá construir funciones a mano (y con distinto nombre) para getter, setter y deleter."
   ]
  },
  {
   "cell_type": "code",
   "execution_count": 91,
   "metadata": {},
   "outputs": [
    {
     "name": "stdout",
     "output_type": "stream",
     "text": [
      "Se eliminó el atributo.\n"
     ]
    }
   ],
   "source": [
    "class Clase:\n",
    "\n",
    "\tdef __init__(self, valor):\n",
    "\t\tself.__private_attribute = valor\n",
    "\n",
    "\t@property  # indica que la siguiente función actuará como método para una propiedad.\n",
    "\tdef priv_attribute(self):  # funciona como getter.\n",
    "\t\treturn self.__private_attribute\n",
    "\t\n",
    "\t@priv_attribute.setter  # indica que la función será el setter method para la price property.\n",
    "\tdef priv_attribute(self, new_value):\n",
    "\t\tassert new_value > 0 and isinstance(new_value, int)  # se valida el nuevo valor del atributo.\n",
    "\t\tself.__private_attribute = new_value\n",
    "\n",
    "\t@priv_attribute.deleter\n",
    "\tdef priv_attribute(self):\n",
    "\t\tdel self.__private_attribute\n",
    "\t\tprint('Se eliminó el atributo.')\n",
    "  \n",
    "obj = Clase(100)\n",
    "\n",
    "obj.priv_attribute  # así se debe llamar al atributo (sin paréntesis). casa.__price arroja un error ya que el atributo está oculto.\n",
    "del obj.priv_attribute\n",
    "obj.priv_attribute = 30"
   ]
  },
  {
   "cell_type": "code",
   "execution_count": null,
   "metadata": {},
   "outputs": [],
   "source": []
  }
 ],
 "metadata": {
  "kernelspec": {
   "display_name": "Python 3",
   "language": "python",
   "name": "python3"
  },
  "language_info": {
   "codemirror_mode": {
    "name": "ipython",
    "version": 3
   },
   "file_extension": ".py",
   "mimetype": "text/x-python",
   "name": "python",
   "nbconvert_exporter": "python",
   "pygments_lexer": "ipython3",
   "version": "3.10.2 (v3.10.2:a58ebcc701, Jan 13 2022, 14:50:16) [Clang 13.0.0 (clang-1300.0.29.30)]"
  },
  "orig_nbformat": 4,
  "vscode": {
   "interpreter": {
    "hash": "aee8b7b246df8f9039afb4144a1f6fd8d2ca17a180786b69acc140d282b71a49"
   }
  }
 },
 "nbformat": 4,
 "nbformat_minor": 2
}
