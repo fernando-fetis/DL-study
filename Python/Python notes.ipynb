{
 "cells": [
  {
   "cell_type": "markdown",
   "id": "76321398",
   "metadata": {},
   "source": [
    "# Python"
   ]
  },
  {
   "cell_type": "markdown",
   "id": "3f2eebf0",
   "metadata": {},
   "source": [
    "## Sintaxis"
   ]
  },
  {
   "cell_type": "markdown",
   "id": "979d2c3c",
   "metadata": {},
   "source": [
    "### Variable annotation"
   ]
  },
  {
   "cell_type": "code",
   "execution_count": null,
   "id": "b7f25aed",
   "metadata": {},
   "outputs": [],
   "source": [
    "lista: list[int] = []\n",
    "lista2: list\n",
    "\n",
    "def add(a: int, b: int = 0) -> int:  # no fuerza que sean objetos de esa clase, solo indica qué es lo que espera recibir la función.\n",
    "    return a + b\n",
    "\n",
    "class clase:\n",
    "    coords: tuple[int, int]\n",
    "    label: str"
   ]
  },
  {
   "cell_type": "markdown",
   "id": "2f0b3853",
   "metadata": {},
   "source": [
    "### For-else loop"
   ]
  },
  {
   "cell_type": "code",
   "execution_count": null,
   "id": "92acdbc3",
   "metadata": {},
   "outputs": [],
   "source": [
    "# si nunca se llama break, se ejecuta else despúes del loop.\n",
    "\n",
    "for number in [1, 2, 3, 4, 5]:\n",
    "        print(number)\n",
    "else:\n",
    "    print('end of loop')\n",
    "\n",
    "for number in [1, 2, 3, 4, 5]:\n",
    "    print(number)\n",
    "    break\n",
    "else:\n",
    "    print('Esto no será mostrado')"
   ]
  },
  {
   "cell_type": "markdown",
   "id": "f1698586",
   "metadata": {},
   "source": [
    "### Operadores"
   ]
  },
  {
   "cell_type": "code",
   "execution_count": null,
   "id": "fe874e62",
   "metadata": {},
   "outputs": [],
   "source": [
    "# Operador or:\n",
    "\n",
    "print(True | True)\n",
    "print(True | False)\n",
    "print(False | False)\n",
    "\n",
    "# Operador xor:\n",
    "\n",
    "print(True ^ True)\n",
    "print(True ^ False)\n",
    "print(False ^ False)"
   ]
  },
  {
   "cell_type": "code",
   "execution_count": null,
   "id": "3b25dda4",
   "metadata": {},
   "outputs": [],
   "source": [
    "# Operador is:\n",
    "\n",
    "x1, y1 = 5, 5\n",
    "x2, y2 = 'Hello', 'Hello'\n",
    "x3, y3 = [1, 2, 3], [1, 2, 3]\n",
    "\n",
    "print(x1 is y1)  # True\n",
    "print(x2 is y2)  # True\n",
    "print(x3 is y3)  # False\n",
    "\n",
    "x4 = [1, 2, 3]\n",
    "y4 = x4\n",
    "print(x4 is y4)  # True"
   ]
  },
  {
   "cell_type": "code",
   "execution_count": null,
   "id": "1cb428df",
   "metadata": {},
   "outputs": [],
   "source": [
    "# Varios condicionales:\n",
    "all([True, True, False])  # se deben cumplir todas las condicionesl.\n",
    "any([False, False, True])  # se debe cumplir alguna de las condiciones.\n",
    "\n",
    "# Doble condicional:\n",
    "(2<3==5) == (2<3 and 3==5)"
   ]
  },
  {
   "cell_type": "markdown",
   "id": "29cbc008",
   "metadata": {},
   "source": [
    "### Args y keyword args"
   ]
  },
  {
   "cell_type": "code",
   "execution_count": null,
   "id": "69449733",
   "metadata": {},
   "outputs": [],
   "source": [
    "def funcion(*args: tuple, **kwargs: dict):\n",
    "    \n",
    "    for arg in args:\n",
    "        print(arg)\n",
    "    \n",
    "    for key in kwargs.keys():\n",
    "        print(key, kwargs[key])\n",
    "        \n",
    "funcion(3, 4, 5, 6, a=2, b=5)"
   ]
  },
  {
   "cell_type": "markdown",
   "id": "036f7dc6",
   "metadata": {},
   "source": [
    "### Context manager"
   ]
  },
  {
   "cell_type": "code",
   "execution_count": 12,
   "id": "b4f09f29",
   "metadata": {},
   "outputs": [
    {
     "name": "stdout",
     "output_type": "stream",
     "text": [
      "acciones al instanciar\n",
      "Acciones al acceder a with.\n",
      "Acciones dentro del bloque.\n",
      "Acciones al salir del with.\n"
     ]
    }
   ],
   "source": [
    "class MyClass:\n",
    "    def __init__(self):  # no es necesario para el with.\n",
    "        print('acciones al instanciar la clase.')\n",
    "      \n",
    "    def __enter__(self):\n",
    "        print('Acciones al acceder a with.')\n",
    "  \n",
    "    def __exit__(self, exception_type, exception_value, traceback):\n",
    "        print('Acciones al salir del with.')\n",
    "        if exception_type: # si no hubo ningún error, todos los parámetros son None.\n",
    "            print('tipo de error:', exception_type)\n",
    "            print('detalle del error:', exception_value)\n",
    "            print('traceback:', traceback)\n",
    "    \n",
    "with MyClass() as object_class:\n",
    "    print('Acciones dentro del bloque.')\n",
    "    #object_class + 1  # error."
   ]
  },
  {
   "cell_type": "markdown",
   "id": "8efb71a6",
   "metadata": {},
   "source": [
    "## Listas"
   ]
  },
  {
   "cell_type": "code",
   "execution_count": null,
   "id": "fb88023f",
   "metadata": {},
   "outputs": [],
   "source": [
    "lista = list(range(10))\n",
    "\n",
    "# Modificación de un fragmento de lista:\n",
    "lista[:3] = 'abc'\n",
    "\n",
    "# La cantidad de elementos que se obtienen en un slice es la resta:\n",
    "lista[3:7]  # tiene longitud 7-3 = 4.\n",
    "lista[:6]  # como se comienza en 0, esta lista tiene 6-0 = 6 elementos.\n",
    "lista[-4:-7:-1]  # [6,5,4]. Desde el cuarto elemento hasta el sexto, contado desde el final.\n",
    "\n",
    "lista.insert(5, 'nuevo valor')  # inserta en posición 5 y desplaza la lista hacia la derecha.\n",
    "lista.insert(0, 'nuevo valor') #insertar al comienzo.\n",
    "lista.remove(5)  # remover primera vez que se encuentra un elemento.\n",
    "\n",
    "poped = lista.pop(1) # retorna el último valor de la lista y lo elimina.\n",
    "\n",
    "# eliminar elemento o fragmento de lista:\n",
    "del lista[0]\n",
    "del lista[7:]\n",
    "del lista[:] # equivalente a a.clear()\n",
    "del lista # elimina la lista (ya no existe).\n",
    "\n",
    "# Vaciar una lista:\n",
    "lista.clear()\n",
    "\n",
    "# Primera aparición de un elemento:\n",
    "index = lista.index(5)  # no modifica la lista.\n",
    "\n",
    "# aplicar función pointwise:\n",
    "lista_squared = list(map(lambda x: x**2, lista))\n",
    "lista_squared = [x**2 for x in lista]\n",
    "\n",
    "\n",
    "# For múltiple para list comprehension:\n",
    "triple_zip = [(a, b, c)  # (1,4,7), (1,4,8), ..., (3,6,8), (3,6,9).\n",
    "              for a in [1, 2, 3]\n",
    "              for b in [4, 5, 6]\n",
    "              for c in [7, 8, 9]\n",
    "              if a < b < c]\n",
    "\n",
    "# Aplanar array 2D:\n",
    "lista = [[1,2,3], [4,5,6], [7,8,9]]\n",
    "lista_flatten = [x for vector in lista\n",
    "                   for x in vector]"
   ]
  },
  {
   "cell_type": "code",
   "execution_count": 7,
   "id": "678f36f2",
   "metadata": {},
   "outputs": [],
   "source": [
    "lista = [0, 1, 2, 3, 4, 5]\n",
    "\n",
    "# imprimir hacia atras:\n",
    "assert lista[::-1] == [5, 4, 3, 2, 1, 0]\n",
    "assert lista[:2:-1] == [5, 4, 3]  # imprimir hacia atrás desde cierto índice.\n",
    "assert lista[3::-1] == [3, 2, 1, 0]  # imprimir hacia atrás hasta cierto índice.\n",
    "assert lista[100::-1] == [5, 4, 3, 2, 1, 0]  # cuando se parte hacia atrás, se puede colocar un índice inicial mayor al permitido.\n",
    "assert lista[::-2] == [5, 3, 1]"
   ]
  },
  {
   "cell_type": "code",
   "execution_count": null,
   "id": "e583f61c",
   "metadata": {},
   "outputs": [],
   "source": [
    "# Unpacking:\n",
    "a, *elements_in_the_middle, b, c = [1, 2, 3, 4, 5, 6, 7, 8]"
   ]
  },
  {
   "cell_type": "code",
   "execution_count": null,
   "id": "46d36bcb",
   "metadata": {},
   "outputs": [],
   "source": [
    "# transponer matriz:\n",
    "\n",
    "matrix = [[1, 2,  3,  4],\n",
    "          [5, 6,  7,  8],\n",
    "          [9, 10, 11, 12]]\n",
    "\n",
    "# por comprensión:\n",
    "m_transpose = [[row[i] for row in matrix] for i in range(4)]\n",
    "m_transpose\n",
    "\n",
    "# mejor forma:\n",
    "m_transpose = list(zip(*matrix))"
   ]
  },
  {
   "cell_type": "markdown",
   "id": "89818ead",
   "metadata": {},
   "source": [
    "## Diccionarios"
   ]
  },
  {
   "cell_type": "code",
   "execution_count": null,
   "id": "5305baf6",
   "metadata": {},
   "outputs": [],
   "source": [
    "# Unión de diccionarios:\n",
    "\n",
    "x = {'a': 1, 'b': 2}\n",
    "y = {'b': 3, 'c': 4}\n",
    "z = x | y # el segundo operador sobreescribe las llaves coincidentes del primero.\n",
    "\n",
    "# Cambiar llaves por valores:\n",
    "\n",
    "dictionary = {\"a\": 1, \"b\": 2, \"c\": 3}\n",
    "reversed_dictionary = {j: i for i, j in dictionary.items()}\n",
    "\n",
    "# Obtener valores de un diccionario:\n",
    "dictionary.values()"
   ]
  },
  {
   "cell_type": "markdown",
   "id": "a27fdbe5",
   "metadata": {},
   "source": [
    "## Shallow and deep copy"
   ]
  },
  {
   "cell_type": "code",
   "execution_count": null,
   "id": "8f7089db",
   "metadata": {},
   "outputs": [],
   "source": [
    "# shallow copy:\n",
    "\n",
    "a = list(range(10))\n",
    "b = a\n",
    "b_shallow = a[:]\n",
    "a[0] = 'cero'\n",
    "b[1] = 'uno'\n",
    "b_shallow[2] = 'dos'\n",
    "print(a,b, b_shallow)\n",
    "print(a is b_shallow, a is b)\n",
    "\n",
    "# una shallow copy copia el contenido del objeto en otro espacio de memoria.\n",
    "# una deep copy copia el contenido del objeto y todos los objetos child.\n",
    "\n",
    "import copy\n",
    "\n",
    "a = [1, 2]\n",
    "b = [3, 4]\n",
    "lista = [a, b]\n",
    "\n",
    "# shallow copy:\n",
    "lista_shallow = copy.copy(lista) # lista[:].\n",
    "\n",
    "# deep copy:\n",
    "lista_deep = copy.deepcopy(lista)\n",
    "\n",
    "# cambio deep:\n",
    "a[0] = 0\n",
    "print(lista, lista_shallow, lista_deep, sep='\\n')"
   ]
  },
  {
   "cell_type": "markdown",
   "id": "d358efe5",
   "metadata": {},
   "source": [
    "## String"
   ]
  },
  {
   "cell_type": "code",
   "execution_count": null,
   "id": "185de70c",
   "metadata": {},
   "outputs": [],
   "source": [
    "# valor nulo:\n",
    "null = float('NaN')  # not a number.\n",
    "\n",
    "# Fecha y correo:\n",
    "print('16', '08', '1996', sep='/')  # 16/08/1996\n",
    "print('name', 'domain.com', sep='@')  # name@domain.com\n",
    "\n",
    "# Evaluación literal:\n",
    "import ast  # abstract syntax trees.\n",
    "string = '[1,2,3]'\n",
    "lista = ast.literal_eval(string)\n",
    "type(lista)\n",
    "\n",
    "# Tipo de texto:\n",
    "'    '.isspace()\n",
    "\"10 Python Tips\".istitle()\n",
    "\n",
    "# Obtener donde está localizado un módulo:\n",
    "import numpy as np\n",
    "print(np)  # <module 'numpy' from '/Library/Frameworks/Python.framework/Versions/3.10/lib/python3.10/site-packages/numpy/__init__.py'>"
   ]
  },
  {
   "cell_type": "code",
   "execution_count": null,
   "id": "e9d01589",
   "metadata": {},
   "outputs": [],
   "source": [
    "def caesar(input, mode='codif'):\n",
    "    output=str('')\n",
    "    for char in input:\n",
    "        output += chr(ord(char)+5 if mode=='codif' else ord(char)-5)    \n",
    "    return str(output)\n",
    "\n",
    "caesar('Fernando', mode='codif')"
   ]
  },
  {
   "cell_type": "code",
   "execution_count": null,
   "id": "de2f8f34",
   "metadata": {},
   "outputs": [],
   "source": [
    "# Contar cantidad de elementos en un string o lista:\n",
    "\n",
    "from collections import Counter\n",
    "\n",
    "conteo1 = Counter('palabra')\n",
    "conteo2 = Counter([1, 2, 1, 3, 1, 4, 1, 5, 1, 6])"
   ]
  },
  {
   "cell_type": "code",
   "execution_count": null,
   "id": "be688c40",
   "metadata": {},
   "outputs": [],
   "source": [
    "# recorrer loop en reversa:\n",
    "    \n",
    "for i in reversed(range(10)):\n",
    "    print(i)\n",
    "    \n",
    "\n",
    "slicing = slice(-4, None)"
   ]
  },
  {
   "cell_type": "markdown",
   "id": "70cdbc12",
   "metadata": {},
   "source": [
    "# PEP8"
   ]
  },
  {
   "cell_type": "code",
   "execution_count": null,
   "id": "463d0742",
   "metadata": {},
   "outputs": [],
   "source": [
    "# Arguments on first line forbidden when not using vertical alignment.\n",
    "foo = long_function_name(var_one, var_two,\n",
    "    var_three, var_four)"
   ]
  },
  {
   "cell_type": "code",
   "execution_count": null,
   "id": "2d617f89",
   "metadata": {},
   "outputs": [],
   "source": [
    "my_list = [\n",
    "    1, 2, 3,\n",
    "    4, 5, 6,\n",
    "    ]\n",
    "\n",
    "# o bien:\n",
    "\n",
    "my_list = [\n",
    "    1, 2, 3,\n",
    "    4, 5, 6,\n",
    "]"
   ]
  },
  {
   "cell_type": "markdown",
   "id": "c72bb7f2",
   "metadata": {},
   "source": [
    "Comments should be complete sentences. The first word should be capitalized, unless it is an identifier that begins with a lower case letter (never alter the case of identifiers!).\n",
    "\n",
    "An inline comment is a comment on the same line as a statement. Inline comments should be separated by at least two spaces from the statement. They should start with a # and a single space. comenzar en mayúscula.\n",
    "\n",
    "\n",
    "_single_leading_underscore: weak “internal use” indicator. E.g. from M import * does not import objects whose names start with an underscore.\n",
    "\n",
    "single_trailing_underscore_: used by convention to avoid conflicts with Python keyword, e.g.\n",
    "tkinter.Toplevel(master, class_='ClassName')\n",
    "\n",
    "__ double_leading_underscore: when naming a class attribute, invokes name mangling (inside class FooBar, __ boo becomes _FooBar__boo; see below).\n",
    "__ double_leading_and_trailing_underscore__: “magic” objects or attributes that live in user-controlled namespaces. E.g. __ init__, __ import__ or __ file__. Never invent such names; only use them as documented.\n",
    "\n",
    "\n",
    "\n",
    "If a function argument’s name clashes with a reserved keyword, it is generally better to append a single trailing underscore rather than use an abbreviation or spelling corruption. Thus class_ is better than clss. (Perhaps better is to avoid such clashes by using a synonym.)\n",
    "\n",
    "== and != are equality test, they invoke the __ eq__ method to check if the left hand side of the operator represent an object identical to the one on the right hand side.\n",
    "\n",
    "is and is not are identity tests, they check whether the left hand side and the right hand side of the operator reference the same object.\n",
    "\n",
    "Use is not operator rather than not ... is. While both expressions are functionally identical, the former is more readable and preferred:\n",
    "Correct:\n",
    "if foo is not None:\n",
    "Wrong:\n",
    "if not foo is None:\n",
    "\n",
    "\n",
    "\n",
    "Exception handling with try, except, else, and finally\n",
    "Try: This block will test the excepted error to occur\n",
    "Except:  Here you can handle the error\n",
    "Else: If there is no exception then this block will be executed\n",
    "Finally: Finally block always gets executed either exception is generated or not\n",
    "Syntax:\n",
    "\n",
    "try:\n",
    "       # Some Code.... \n",
    "\n",
    "except:\n",
    "       # optional block\n",
    "       # Handling of exception (if required)\n",
    "\n",
    "else:\n",
    "       # execute if no exception\n",
    "\n",
    "finally:\n",
    "      # Some code .....(always executed)\n",
    "      \n",
    "\n",
    "ejemplo:\n",
    "\n",
    "def divide(x, y):\n",
    "    try:\n",
    "        result = x // y\n",
    "    except ZeroDivisionError:\n",
    "        print(\"Sorry ! You are dividing by zero \")\n",
    "\n",
    "\n",
    "\n",
    "\n",
    "\n",
    "Use ''.startswith() and ''.endswith() instead of string slicing to check for prefixes or suffixes.\n",
    "startswith() and endswith() are cleaner and less error prone:\n",
    "\n",
    "Correct:\n",
    "if foo.startswith('bar'):\n",
    "Wrong:\n",
    "if foo[:3] == 'bar':\n",
    "\n",
    "Object type comparisons should always use isinstance() instead of comparing types directly:\n",
    "Correct:\n",
    "if isinstance(obj, int):\n",
    "Wrong:\n",
    "if type(obj) is type(1):\n",
    "\n",
    "\n",
    "Don’t compare boolean values to True or False using ==:\n",
    "Correct:\n",
    "if greeting:\n",
    "Wrong:\n",
    "if greeting == True:"
   ]
  },
  {
   "cell_type": "code",
   "execution_count": null,
   "id": "f862e327",
   "metadata": {},
   "outputs": [],
   "source": [
    "from matplotlib import pyplot as plt\n",
    "import numpy as np\n",
    "\n",
    "# Gráficos en mosaico:\n",
    "\n",
    "x = np.linspace(0, 20, 1000)\n",
    "y = np.sin(x)\n",
    "\n",
    "mosaic = '''ABDDFFFF\n",
    "            CCDDFFFF\n",
    "            CCEEFFFF'''\n",
    "\n",
    "fig, ax = plt.subplot_mosaic(mosaic, figsize=(16,6), tight_layout=True)\n",
    "fig.suptitle('Título principal', fontsize=15, fontweight='bold')\n",
    "\n",
    "for plot in 'ABCDEF': \n",
    "    ax[plot].plot(x,y)\n",
    "    ax[plot].set_title(f'Gráfico {plot}')\n",
    "    ax[plot].grid(plot in 'CDF')\n",
    "\n",
    "# Color para imagen monocromática:\n",
    "image = []\n",
    "plt.imshow(image, cmap='gray', interpolation='none')\n",
    "plt.tight_layout()\n",
    "\n",
    "# Subplots:\n",
    "fig, ax = plt.subplots(2,2, constrained_layout=True, figsize=(10, 5))\n",
    "for i in (1, 2):\n",
    "    for j in (1, 2):\n",
    "        ax[i, j].plot(x, y)\n",
    "        ax[i, j].set_title('Titulo')\n",
    "plt.show()"
   ]
  },
  {
   "cell_type": "markdown",
   "id": "69ed1884",
   "metadata": {},
   "source": [
    "| Función de activación |  Test Accuracy %  |\n",
    "|:---------------------:|:-------------:|\n",
    "| Sigmoide              |  87.88 |\n",
    "| Leaky ReLU            |  87.91 |\n",
    "| Mish                  |  88.26 |\n",
    "| ELU                   |  88.38 |\n",
    "| SiLU                  |  88.13 |"
   ]
  },
  {
   "cell_type": "markdown",
   "id": "7ca66e37",
   "metadata": {},
   "source": []
  }
 ],
 "metadata": {
  "kernelspec": {
   "display_name": "Python 3.10.2 64-bit",
   "language": "python",
   "name": "python3"
  },
  "language_info": {
   "codemirror_mode": {
    "name": "ipython",
    "version": 3
   },
   "file_extension": ".py",
   "mimetype": "text/x-python",
   "name": "python",
   "nbconvert_exporter": "python",
   "pygments_lexer": "ipython3",
   "version": "3.10.2"
  },
  "vscode": {
   "interpreter": {
    "hash": "aee8b7b246df8f9039afb4144a1f6fd8d2ca17a180786b69acc140d282b71a49"
   }
  }
 },
 "nbformat": 4,
 "nbformat_minor": 5
}
